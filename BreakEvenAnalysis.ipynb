{
  "cells": [
    {
      "cell_type": "markdown",
      "metadata": {},
      "source": [
        "# ==============================================\n",
        "# \ud83d\udcca The AI Roadmap to Profitability:\n",
        "# Predictive Break-Even Analysis for Smarter Financial Planning\n",
        "# =============================================="
      ]
    },
    {
      "cell_type": "markdown",
      "metadata": {},
      "source": [
        "## 1) Import Libraries"
      ]
    },
    {
      "cell_type": "code",
      "execution_count": null,
      "metadata": {},
      "source": [
        "import pandas as pd\n",
        "import numpy as np\n",
        "import matplotlib.pyplot as plt\n",
        "import seaborn as sns\n",
        "\n",
        "from sklearn.model_selection import train_test_split\n",
        "from sklearn.preprocessing import StandardScaler, LabelEncoder\n",
        "from sklearn.metrics import accuracy_score, classification_report, confusion_matrix\n",
        "from sklearn.ensemble import RandomForestClassifier\n",
        "\n",
        "# Install XGBoost\n",
        "!pip install xgboost\n",
        "from xgboost import XGBClassifier\n",
        "\n",
        "import joblib\n",
        "\n",
        "\n",
        "\n",
        "# Plot styling\n",
        "sns.set(style=\"whitegrid\", palette=\"pastel\")\n",
        "plt.rcParams[\"figure.figsize\"] = (8,5)"
      ]
    },
    {
      "cell_type": "markdown",
      "metadata": {},
      "source": [
        "## 2) Load Dataset"
      ]
    },
    {
      "cell_type": "code",
      "execution_count": null,
      "metadata": {},
      "source": [
        "from google.colab import files\n",
        "uploaded = files.upload()\n",
        "\n",
        "df = pd.read_csv(\"BreakEvenDB.csv.csv\")\n",
        "print(\"Total Rows & Columns of the Dataset:\", df.shape)\n",
        "df.head()"
      ]
    },
    {
      "cell_type": "markdown",
      "metadata": {},
      "source": [
        "## 3) Tableau-Style Analysis (Overview)"
      ]
    },
    {
      "cell_type": "code",
      "execution_count": null,
      "metadata": {},
      "source": [
        "print(\"\\n--- Dataset Info ---\")\n",
        "print(df.info())\n",
        "print(\"\\n--- Missing Values ---\")\n",
        "print(df.isnull().sum())\n",
        "print(\"\\n--- Descriptive Statistics ---\")\n",
        "print(df.describe())\n",
        "print(\"\\n--- Unique Values in Each Column ---\")\n",
        "print(df.nunique())\n",
        "\n",
        "\n",
        "# Correlation heatmap\n",
        "plt.figure(figsize=(10,6))\n",
        "sns.heatmap(df.corr(numeric_only=True), annot=True, cmap=\"coolwarm\")\n",
        "plt.title(\"Correlation Heatmap\")\n",
        "plt.show()"
      ]
    },
    {
      "cell_type": "markdown",
      "metadata": {},
      "source": [
        "## 4) Exploratory Data Analysis (10 Charts)"
      ]
    },
    {
      "cell_type": "code",
      "execution_count": null,
      "metadata": {},
      "source": [
        "# ---- Univariate (5 charts) ----\n",
        "sns.histplot(df[\"fixed_costs\"], bins=30, kde=True)\n",
        "plt.title(\"Distribution of Fixed Costs\")\n",
        "plt.show()\n",
        "\n",
        "sns.histplot(df[\"variable_cost_per_unit\"], bins=30, kde=True, color=\"orange\")\n",
        "plt.title(\"Distribution of Variable Cost per Unit\")\n",
        "plt.show()\n",
        "\n",
        "sns.histplot(df[\"price_per_unit\"], bins=30, kde=True, color=\"green\")\n",
        "plt.title(\"Distribution of Price per Unit\")\n",
        "plt.show()\n",
        "\n",
        "sns.histplot(df[\"units_sold\"], bins=30, kde=True, color=\"purple\")\n",
        "plt.title(\"Distribution of Units Sold\")\n",
        "plt.show()\n",
        "\n",
        "sns.countplot(x=\"status\", data=df, palette=\"Set2\")\n",
        "plt.title(\"Count of Profit/Loss/Break-even\")\n",
        "plt.show()"
      ]
    },
    {
      "cell_type": "code",
      "execution_count": null,
      "metadata": {},
      "source": [
        "# ---- Bivariate (3 charts) ----\n",
        "sns.scatterplot(x=\"units_sold\", y=\"total_revenue\", hue=\"status\", data=df)\n",
        "plt.title(\"Units Sold vs Total Revenue\")\n",
        "plt.show()\n",
        "\n",
        "sns.boxplot(x=\"status\", y=\"profit_or_loss\", data=df, palette=\"Set3\")\n",
        "plt.title(\"Profit/Loss Distribution by Status\")\n",
        "plt.show()\n",
        "\n",
        "sns.scatterplot(x=\"marketing_spend\", y=\"profit_or_loss\", hue=\"status\", data=df)\n",
        "plt.title(\"Marketing Spend vs Profit/Loss\")\n",
        "plt.show()"
      ]
    },
    {
      "cell_type": "code",
      "execution_count": null,
      "metadata": {},
      "source": [
        "# ---- Multivariate (2 charts) ----\n",
        "sns.pairplot(df[[\"fixed_costs\",\"variable_cost_per_unit\",\"price_per_unit\",\"units_sold\",\"profit_or_loss\",\"status\"]],\n",
        "             hue=\"status\", diag_kind=\"kde\")\n",
        "plt.suptitle(\"Pairplot of Key Features\", y=1.02)\n",
        "plt.show()\n",
        "\n",
        "sns.heatmap(df.groupby(\"status\")[[\"fixed_costs\",\"variable_cost_per_unit\",\"price_per_unit\",\"units_sold\"]].mean(),\n",
        "            annot=True, cmap=\"YlGnBu\")\n",
        "plt.title(\"Average Metrics by Business Status\")\n",
        "plt.show()"
      ]
    },
    {
      "cell_type": "markdown",
      "metadata": {},
      "source": [
        "## 5) Data Preparation & Preprocessing"
      ]
    },
    {
      "cell_type": "code",
      "execution_count": null,
      "metadata": {},
      "source": [
        "X = df.drop(columns=[\"profit_or_loss\", \"status\"])\n",
        "y = df[\"status\"]\n",
        "\n",
        "# Encode target labels\n",
        "le = LabelEncoder()\n",
        "y_enc = le.fit_transform(y)\n",
        "\n",
        "# Train-Test Split\n",
        "X_train, X_test, y_train, y_test = train_test_split(\n",
        "    X, y_enc, test_size=0.2, random_state=42, stratify=y_enc)\n",
        "\n",
        "# Feature Scaling\n",
        "scaler = StandardScaler()\n",
        "X_train_scaled = scaler.fit_transform(X_train)\n",
        "X_test_scaled = scaler.transform(X_test)"
      ]
    },
    {
      "cell_type": "markdown",
      "metadata": {},
      "source": [
        "## 6) ML Model Implementation & Evaluation"
      ]
    },
    {
      "cell_type": "code",
      "execution_count": null,
      "metadata": {},
      "source": [
        "# ---- Random Forest (Baseline) ----\n",
        "rf_model = RandomForestClassifier(n_estimators=200, random_state=42)\n",
        "rf_model.fit(X_train_scaled, y_train)\n",
        "y_pred_rf = rf_model.predict(X_test_scaled)\n",
        "\n",
        "# Decode labels back for evaluation\n",
        "y_test_labels = le.inverse_transform(y_test)\n",
        "y_pred_rf_labels = le.inverse_transform(y_pred_rf)\n",
        "\n",
        "print(\"\\n--- Random Forest Model Evaluation ---\")\n",
        "print(\"Accuracy:\", accuracy_score(y_test_labels, y_pred_rf_labels))\n",
        "print(\"\\nClassification Report:\\n\", classification_report(y_test_labels, y_pred_rf_labels))\n",
        "\n",
        "cm_rf = confusion_matrix(y_test_labels, y_pred_rf_labels, labels=le.classes_)\n",
        "plt.figure(figsize=(6,5))\n",
        "sns.heatmap(cm_rf, annot=True, fmt=\"d\", cmap=\"Blues\", xticklabels=le.classes_, yticklabels=le.classes_)\n",
        "plt.xlabel(\"Predicted\")\n",
        "plt.ylabel(\"Actual\")\n",
        "plt.title(\"Confusion Matrix - Random Forest\")\n",
        "plt.show()"
      ]
    },
    {
      "cell_type": "code",
      "execution_count": null,
      "metadata": {},
      "source": [
        "# ---- XGBoost (Advanced) ----\n",
        "xgb_model = XGBClassifier(objective='multi:softprob', random_state=42)\n",
        "xgb_model.fit(X_train_scaled, y_train)\n",
        "y_pred_xgb = xgb_model.predict(X_test_scaled)\n",
        "\n",
        "# Decode labels back for evaluation\n",
        "y_pred_xgb_labels = le.inverse_transform(y_pred_xgb)\n",
        "\n",
        "print(\"\\n--- XGBoost Model Evaluation ---\")\n",
        "print(\"Accuracy:\", accuracy_score(y_test_labels, y_pred_xgb_labels))\n",
        "print(\"\\nClassification Report:\\n\", classification_report(y_test_labels, y_pred_xgb_labels))\n",
        "\n",
        "cm_xgb = confusion_matrix(y_test_labels, y_pred_xgb_labels, labels=le.classes_)\n",
        "plt.figure(figsize=(6,5))\n",
        "sns.heatmap(cm_xgb, annot=True, fmt=\"d\", cmap=\"Greens\", xticklabels=le.classes_, yticklabels=le.classes_)\n",
        "plt.xlabel(\"Predicted\")\n",
        "plt.ylabel(\"Actual\")\n",
        "plt.title(\"Confusion Matrix - XGBoost\")\n",
        "plt.show()"
      ]
    },
    {
      "cell_type": "markdown",
      "metadata": {},
      "source": [
        "## 7) Save Models, Scaler & Label Encoder as .pkl for Streamlit"
      ]
    },
    {
      "cell_type": "code",
      "execution_count": null,
      "metadata": {},
      "source": [
        "joblib.dump(rf_model, \"random_forest_model.pkl\")\n",
        "joblib.dump(xgb_model, \"xgboost_model.pkl\")\n",
        "joblib.dump(scaler, \"scaler.pkl\")\n",
        "joblib.dump(le, \"label_encoder.pkl\")\n",
        "\n",
        "# Download the files\n",
        "files.download(\"random_forest_model.pkl\")\n",
        "files.download(\"xgboost_model.pkl\")\n",
        "files.download(\"scaler.pkl\")\n",
        "files.download(\"label_encoder.pkl\")"
      ]
    }
  ],
  "metadata": {
    "kernelspec": {
      "display_name": "Python 3",
      "language": "python",
      "name": "python3"
    },
    "language_info": {
      "codemirror_mode": {
        "name": "ipython",
        "version": 3
      },
      "file_extension": ".py",
      "mimetype": "text/x-python",
      "name": "python",
      "nbconvert_exporter": "python",
      "pygments_lexer": "ipython3",
      "version": "3.10.12"
    }
  },
  "nbformat": 4,
  "nbformat_minor": 5
}